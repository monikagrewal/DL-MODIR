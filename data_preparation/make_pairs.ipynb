{
 "cells": [
  {
   "cell_type": "code",
   "execution_count": 2,
   "metadata": {},
   "outputs": [],
   "source": [
    "import os\n",
    "import pandas as pd"
   ]
  },
  {
   "cell_type": "code",
   "execution_count": 3,
   "metadata": {},
   "outputs": [
    {
     "name": "stdout",
     "output_type": "stream",
     "text": [
      "Index(['root_path', 'path', 'patient_id', 'series_id', 'series_date',\n",
      "       'voxel_spacing', 'labels', 'no_of_contours', 'applicator', 'comments'],\n",
      "      dtype='object')\n"
     ]
    }
   ],
   "source": [
    "filepath = f'./meta/mri_dataset_train_applicator_annotation.xlsx'\n",
    "df = pd.read_excel(filepath)\n",
    "\n",
    "print(df.columns)"
   ]
  },
  {
   "cell_type": "code",
   "execution_count": 5,
   "metadata": {},
   "outputs": [],
   "source": [
    "groups = df.groupby('patient_id')\n"
   ]
  },
  {
   "cell_type": "code",
   "execution_count": 17,
   "metadata": {},
   "outputs": [
    {
     "name": "stdout",
     "output_type": "stream",
     "text": [
      "36\n",
      "                                               fixed  \\\n",
      "0  /export/scratch2/data/grewal/Data/Projects_JPG...   \n",
      "1  /export/scratch2/data/grewal/Data/Projects_JPG...   \n",
      "2  /export/scratch2/data/grewal/Data/Projects_JPG...   \n",
      "3  /export/scratch2/data/grewal/Data/Projects_JPG...   \n",
      "4  /export/scratch2/data/grewal/Data/Projects_JPG...   \n",
      "\n",
      "                                              moving  \n",
      "0  /export/scratch2/data/grewal/Data/Projects_JPG...  \n",
      "1  /export/scratch2/data/grewal/Data/Projects_JPG...  \n",
      "2  /export/scratch2/data/grewal/Data/Projects_JPG...  \n",
      "3  /export/scratch2/data/grewal/Data/Projects_JPG...  \n",
      "4  /export/scratch2/data/grewal/Data/Projects_JPG...  \n"
     ]
    }
   ],
   "source": [
    "datainfo = []\n",
    "for patient_id, info in groups:\n",
    "    paths = info.path.values\n",
    "    if len(paths)>1:\n",
    "        i = 1\n",
    "        while i < len(paths):\n",
    "            entry = {\"fixed\": paths[0],\n",
    "                     \"moving\": paths[i]\n",
    "            }\n",
    "            datainfo.append(entry)\n",
    "            i += 1\n",
    "\n",
    "df_pairs = pd.DataFrame.from_records(datainfo)\n",
    "print(len(df_pairs))\n",
    "print(df_pairs.head())\n",
    "df_pairs.to_csv(\"./meta/mri_dataset_train_pairs.csv\")"
   ]
  },
  {
   "cell_type": "code",
   "execution_count": null,
   "metadata": {},
   "outputs": [],
   "source": []
  }
 ],
 "metadata": {
  "kernelspec": {
   "display_name": ".venv",
   "language": "python",
   "name": "python3"
  },
  "language_info": {
   "codemirror_mode": {
    "name": "ipython",
    "version": 3
   },
   "file_extension": ".py",
   "mimetype": "text/x-python",
   "name": "python",
   "nbconvert_exporter": "python",
   "pygments_lexer": "ipython3",
   "version": "3.10.8"
  },
  "orig_nbformat": 4,
  "vscode": {
   "interpreter": {
    "hash": "1ad5f0b77fd2e5ef60dfc5a5bc4a2e574c913023325b39494daf64735fa345cd"
   }
  }
 },
 "nbformat": 4,
 "nbformat_minor": 2
}
