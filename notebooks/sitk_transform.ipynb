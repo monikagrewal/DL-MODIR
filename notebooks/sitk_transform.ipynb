{
 "cells": [
  {
   "cell_type": "code",
   "execution_count": null,
   "metadata": {},
   "outputs": [],
   "source": [
    "import SimpleITK as sitk\n",
    "import numpy as np\n",
    "\n",
    "# Create the displacement field. \n",
    "    \n",
    "# When working with images the safer thing to do is use the image based constructor,\n",
    "# sitk.DisplacementFieldTransform(my_image), all the fixed parameters will be set correctly and the displacement\n",
    "# field is initialized using the vectors stored in the image. SimpleITK requires that the image's pixel type be \n",
    "# sitk.sitkVectorFloat64.\n",
    "displacement = sitk.DisplacementFieldTransform(2)\n",
    "field_size = [10,20]\n",
    "field_origin = [-1.0,-1.0]  \n",
    "field_spacing = [2.0/9.0,2.0/19.0]   \n",
    "field_direction = [1,0,0,1] # direction cosine matrix (row major order)     \n",
    "\n",
    "# Concatenate all the information into a single list\n",
    "displacement.SetFixedParameters(field_size+field_origin+field_spacing+field_direction)\n",
    "# Set the interpolator, either sitkLinear which is default or nearest neighbor\n",
    "displacement.SetInterpolator(sitk.sitkNearestNeighbor)\n",
    "\n",
    "originalDisplacements = np.random.random(len(displacement.GetParameters()))\n",
    "displacement.SetParameters(originalDisplacements)\n",
    "\n",
    "coordsX = np.linspace(field_origin[0], field_origin[0]+(field_size[0]-1)*field_spacing[0], field_size[0])\n",
    "coordsY = np.linspace(field_origin[1], field_origin[1]+(field_size[1]-1)*field_spacing[1], field_size[1])\n",
    "XX, YY = np.meshgrid(coordsX, coordsY)\n",
    "\n",
    "interact(display_displacement_scaling_effect, s= (-1.5,1.5), original_x_mat = fixed(XX), original_y_mat = fixed(YY),\n",
    "         tx = fixed(displacement), original_control_point_displacements = fixed(originalDisplacements)); "
   ]
  },
  {
   "cell_type": "code",
   "execution_count": 2,
   "metadata": {},
   "outputs": [
    {
     "name": "stdout",
     "output_type": "stream",
     "text": [
      "{'pts': [[213.69450465656678, 180.5936252112733, 27.783096383024116], [212.49424642434874, 190.44013290487436, 37.92769382876246], [218.93255333973406, 148.49777643377854, 4.330459546453753], [212.0501133666802, 221.5390887723096, 19.31711601779196], [216.51335540202092, 187.77332025342577, 12.865602318032884], [218.1662462250826, 162.06615146815503, 6.514374884884411], [181.39574603404958, 201.43715797926882, 22.959082590426178], [243.30326319825798, 196.94241153717078, 23.08576732889341], [225.29054023148734, 281.2794652928012, 24.169809563597823], [220.3299198858229, 325.3477326966981, 24.74972186434249], [227.05787550582272, 321.3143107639693, 5.686560142829258], [227.45263337152426, 347.1887641266333, 11.044713051608454], [214.997294217689, 106.86604630651185, 25.790179998483964], [213.26295600937175, 173.31007238854264, 33.69264242025375], [55.6146089058513, 197.22662772558675, 14.509320103622315], [377.5699215475413, 195.9927750813818, 17.47012687909462], [327.17707568320503, 194.47881897749664, 25.309414484342483], [104.06795458484041, 190.10709582368764, 23.573621849591703], [253.6289573336336, 148.13780101293526, 11.441320042020166], [190.80297232995983, 203.94304572212826, 15.009142426966918], [246.66303110552525, 201.15861277826932, 17.14367406917279], [182.5760399524932, 185.24990231384072, 9.724233651068772]], 'names': ['int_urethral_os', 'ext_urethral_os', 'uterus_top', 'cervix_os', 'isthmus', 'iu_canal_top', 'ureteral_os_right', 'ureteral_os_left', 'int_anal_sfinct', 'coccygis', 's2s3', 's3s4', 'asbs', 'pibs_os', 'fh_right', 'fh_left', 'ac_left', 'ac_right', 'rotundum_left', 'a_uterina_right', 'a_uterina_left', 'rotundum_right']}\n"
     ]
    }
   ],
   "source": [
    "import json\n",
    "\n",
    "filepath = \"/export/scratch2/data/grewal/Data/Projects_JPG_data/MO_DIR/LUMC_cervical_test_annotated/preprocessed/000_Fixed_points.json\"\n",
    "data = json.load(open(filepath, \"r\"))\n",
    "print(data)"
   ]
  },
  {
   "cell_type": "code",
   "execution_count": 3,
   "metadata": {},
   "outputs": [
    {
     "name": "stdout",
     "output_type": "stream",
     "text": [
      "[24.062587103074605, 14.594981536981521, -58.75, 6.178716135332678, 53.93949766601378, -58.75, 74.14383149714774, -69.04462737237648, -76.25, 109.74899278747029, -14.905272533666817, -76.25]\n"
     ]
    }
   ],
   "source": [
    "fixed_image_points = [(24.062587103074605, 14.594981536981521, -58.75), \n",
    "                      (6.178716135332678, 53.93949766601378, -58.75), \n",
    "                      (74.14383149714774, -69.04462737237648, -76.25), \n",
    "                      (109.74899278747029, -14.905272533666817, -76.25)]\n",
    "\n",
    "fixed_image_points_flat = [c for p in fixed_image_points for c in p]\n",
    "print(fixed_image_points_flat)"
   ]
  },
  {
   "cell_type": "code",
   "execution_count": 4,
   "metadata": {},
   "outputs": [
    {
     "name": "stdout",
     "output_type": "stream",
     "text": [
      "['c', 'b']\n"
     ]
    }
   ],
   "source": [
    "x = ['a', 'b', 'c']\n",
    "y = ['b', 'c']\n",
    "\n",
    "common = list(set(x) & set(y))\n",
    "print(common)"
   ]
  },
  {
   "cell_type": "code",
   "execution_count": null,
   "metadata": {},
   "outputs": [],
   "source": []
  }
 ],
 "metadata": {
  "kernelspec": {
   "display_name": ".venv",
   "language": "python",
   "name": "python3"
  },
  "language_info": {
   "codemirror_mode": {
    "name": "ipython",
    "version": 3
   },
   "file_extension": ".py",
   "mimetype": "text/x-python",
   "name": "python",
   "nbconvert_exporter": "python",
   "pygments_lexer": "ipython3",
   "version": "3.10.8"
  },
  "orig_nbformat": 4
 },
 "nbformat": 4,
 "nbformat_minor": 2
}
