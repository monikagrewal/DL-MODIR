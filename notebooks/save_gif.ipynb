{
 "cells": [
  {
   "cell_type": "code",
   "execution_count": 1,
   "metadata": {},
   "outputs": [],
   "source": [
    "import os\n",
    "from PIL import Image"
   ]
  },
  {
   "cell_type": "code",
   "execution_count": 5,
   "metadata": {},
   "outputs": [
    {
     "name": "stdout",
     "output_type": "stream",
     "text": [
      "['pareto_front19_im0.png', 'pareto_front29_im0.png', 'pareto_front39_im0.png', 'pareto_front49_im0.png', 'pareto_front59_im0.png', 'pareto_front69_im0.png', 'pareto_front79_im0.png', 'pareto_front89_im0.png', 'pareto_front99_im0.png', 'pareto_front109_im0.png', 'pareto_front119_im0.png', 'pareto_front129_im0.png', 'pareto_front139_im0.png', 'pareto_front149_im0.png', 'pareto_front159_im0.png', 'pareto_front169_im0.png', 'pareto_front179_im0.png', 'pareto_front189_im0.png', 'pareto_front199_im0.png', 'pareto_front209_im0.png', 'pareto_front219_im0.png', 'pareto_front229_im0.png', 'pareto_front239_im0.png', 'pareto_front249_im0.png', 'pareto_front259_im0.png', 'pareto_front269_im0.png', 'pareto_front279_im0.png', 'pareto_front289_im0.png', 'pareto_front299_im0.png', 'pareto_front309_im0.png', 'pareto_front319_im0.png', 'pareto_front329_im0.png', 'pareto_front339_im0.png', 'pareto_front349_im0.png', 'pareto_front359_im0.png', 'pareto_front369_im0.png', 'pareto_front379_im0.png', 'pareto_front389_im0.png', 'pareto_front399_im0.png', 'pareto_front409_im0.png', 'pareto_front419_im0.png', 'pareto_front429_im0.png', 'pareto_front439_im0.png', 'pareto_front449_im0.png', 'pareto_front459_im0.png', 'pareto_front469_im0.png', 'pareto_front479_im0.png', 'pareto_front489_im0.png', 'pareto_front499_im0.png', 'pareto_front509_im0.png', 'pareto_front519_im0.png', 'pareto_front529_im0.png', 'pareto_front539_im0.png', 'pareto_front549_im0.png', 'pareto_front559_im0.png', 'pareto_front569_im0.png', 'pareto_front579_im0.png', 'pareto_front589_im0.png', 'pareto_front599_im0.png', 'pareto_front609_im0.png', 'pareto_front619_im0.png', 'pareto_front629_im0.png', 'pareto_front639_im0.png', 'pareto_front649_im0.png', 'pareto_front659_im0.png', 'pareto_front669_im0.png', 'pareto_front679_im0.png', 'pareto_front689_im0.png', 'pareto_front699_im0.png', 'pareto_front709_im0.png', 'pareto_front719_im0.png', 'pareto_front729_im0.png', 'pareto_front739_im0.png', 'pareto_front749_im0.png', 'pareto_front759_im0.png', 'pareto_front769_im0.png', 'pareto_front779_im0.png', 'pareto_front789_im0.png', 'pareto_front799_im0.png', 'pareto_front809_im0.png', 'pareto_front819_im0.png', 'pareto_front829_im0.png', 'pareto_front839_im0.png', 'pareto_front849_im0.png', 'pareto_front859_im0.png', 'pareto_front869_im0.png', 'pareto_front879_im0.png', 'pareto_front889_im0.png', 'pareto_front899_im0.png', 'pareto_front909_im0.png', 'pareto_front919_im0.png', 'pareto_front929_im0.png', 'pareto_front939_im0.png', 'pareto_front949_im0.png', 'pareto_front959_im0.png', 'pareto_front969_im0.png', 'pareto_front979_im0.png', 'pareto_front989_im0.png']\n",
      "Successfully created ../outputs/dtlz2_higamo_nvar2_nobj3_07092023_155341.gif\n"
     ]
    }
   ],
   "source": [
    "# Path to the folder containing your images\n",
    "root_path = \"/export/scratch2/data/grewal/DL-MODIR/runs/bug_fixing/\"\n",
    "experiment_name = \"dtlz2_higamo_nvar2_nobj3_07092023_155341\"\n",
    "run = 0\n",
    "fold = 0\n",
    "data_type = \"val\"\n",
    "input_folder = os.path.join(root_path, experiment_name, f\"fold{fold}\", f\"run{run}\", f\"{data_type}\")\n",
    "\n",
    "# List all image files in the input folder\n",
    "image_files = [f'pareto_front{i}_im0.png' for i in range(19, 999, 10)]\n",
    "\n",
    "# Sort the image files to ensure they are in the correct order\n",
    "print(image_files)\n",
    "\n",
    "# Output GIF file name\n",
    "output_path = f\"../outputs/{experiment_name}.gif\"\n",
    "\n",
    "# Create a list to store the frames\n",
    "frames = []\n",
    "\n",
    "# Loop through each image file and append it to the frames list\n",
    "for image_file in image_files:\n",
    "    image_path = os.path.join(input_folder, image_file)\n",
    "    img = Image.open(image_path)\n",
    "    frames.append(img)\n",
    "\n",
    "# Save the frames as a GIF\n",
    "frames[0].save(output_path, save_all=True, append_images=frames[1:], loop=0)\n",
    "\n",
    "print(f\"Successfully created {output_path}\")"
   ]
  },
  {
   "cell_type": "code",
   "execution_count": null,
   "metadata": {},
   "outputs": [],
   "source": []
  }
 ],
 "metadata": {
  "kernelspec": {
   "display_name": ".venv",
   "language": "python",
   "name": "python3"
  },
  "language_info": {
   "codemirror_mode": {
    "name": "ipython",
    "version": 3
   },
   "file_extension": ".py",
   "mimetype": "text/x-python",
   "name": "python",
   "nbconvert_exporter": "python",
   "pygments_lexer": "ipython3",
   "version": "3.10.8"
  },
  "orig_nbformat": 4
 },
 "nbformat": 4,
 "nbformat_minor": 2
}
