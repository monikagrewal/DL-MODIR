{
 "cells": [
  {
   "cell_type": "code",
   "execution_count": 1,
   "metadata": {},
   "outputs": [
    {
     "name": "stderr",
     "output_type": "stream",
     "text": [
      "/export/scratch2/data/grewal/DL-MODIR/.venv/lib/python3.10/site-packages/tqdm/auto.py:22: TqdmWarning: IProgress not found. Please update jupyter and ipywidgets. See https://ipywidgets.readthedocs.io/en/stable/user_install.html\n",
      "  from .autonotebook import tqdm as notebook_tqdm\n"
     ]
    }
   ],
   "source": [
    "import torch"
   ]
  },
  {
   "cell_type": "code",
   "execution_count": 2,
   "metadata": {},
   "outputs": [],
   "source": [
    "x = torch.zeros(2, 3, 4).long()\n",
    "x[0, 1, 1:3] = 1\n",
    "x[0, 2, 1:2] = 1"
   ]
  },
  {
   "cell_type": "code",
   "execution_count": 10,
   "metadata": {},
   "outputs": [],
   "source": [
    "y = torch.eye(5)\n",
    "x_onehot = y[x]\n",
    "x_onehot = x_onehot.permute(3, 0, 1, 2)"
   ]
  },
  {
   "cell_type": "code",
   "execution_count": 11,
   "metadata": {},
   "outputs": [
    {
     "data": {
      "text/plain": [
       "torch.Size([5, 2, 3, 4])"
      ]
     },
     "execution_count": 11,
     "metadata": {},
     "output_type": "execute_result"
    }
   ],
   "source": [
    "x_onehot.shape"
   ]
  },
  {
   "cell_type": "code",
   "execution_count": 3,
   "metadata": {},
   "outputs": [
    {
     "data": {
      "text/plain": [
       "3"
      ]
     },
     "execution_count": 3,
     "metadata": {},
     "output_type": "execute_result"
    }
   ],
   "source": [
    "x.ndim"
   ]
  },
  {
   "cell_type": "code",
   "execution_count": 2,
   "metadata": {},
   "outputs": [],
   "source": [
    "import numpy as np"
   ]
  },
  {
   "cell_type": "code",
   "execution_count": 9,
   "metadata": {},
   "outputs": [
    {
     "name": "stdout",
     "output_type": "stream",
     "text": [
      "[array([[0. , 1.5, 3. ],\n",
      "       [0. , 1.5, 3. ],\n",
      "       [0. , 1.5, 3. ],\n",
      "       [0. , 1.5, 3. ],\n",
      "       [0. , 1.5, 3. ]]), array([[0.  , 0.  , 0.  ],\n",
      "       [1.25, 1.25, 1.25],\n",
      "       [2.5 , 2.5 , 2.5 ],\n",
      "       [3.75, 3.75, 3.75],\n",
      "       [5.  , 5.  , 5.  ]])]\n",
      "(5, 3)\n"
     ]
    }
   ],
   "source": [
    "x = np.meshgrid(np.linspace(0, 3, 3), np.linspace(0, 5, 5), indexing=\"xy\")\n",
    "print(x)\n",
    "print(x[0].shape)"
   ]
  },
  {
   "cell_type": "code",
   "execution_count": null,
   "metadata": {},
   "outputs": [],
   "source": []
  }
 ],
 "metadata": {
  "kernelspec": {
   "display_name": ".venv",
   "language": "python",
   "name": "python3"
  },
  "language_info": {
   "codemirror_mode": {
    "name": "ipython",
    "version": 3
   },
   "file_extension": ".py",
   "mimetype": "text/x-python",
   "name": "python",
   "nbconvert_exporter": "python",
   "pygments_lexer": "ipython3",
   "version": "3.10.8"
  },
  "orig_nbformat": 4,
  "vscode": {
   "interpreter": {
    "hash": "1ad5f0b77fd2e5ef60dfc5a5bc4a2e574c913023325b39494daf64735fa345cd"
   }
  }
 },
 "nbformat": 4,
 "nbformat_minor": 2
}
