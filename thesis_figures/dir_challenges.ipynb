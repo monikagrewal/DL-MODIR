{
 "cells": [
  {
   "cell_type": "code",
   "execution_count": 7,
   "metadata": {},
   "outputs": [],
   "source": [
    "import os\n",
    "import json\n",
    "import glob\n",
    "import numpy as np\n",
    "import matplotlib\n",
    "%matplotlib inline\n",
    "import matplotlib.pyplot as plt\n",
    "import cv2\n",
    "import skimage"
   ]
  },
  {
   "cell_type": "code",
   "execution_count": null,
   "metadata": {},
   "outputs": [],
   "source": [
    "from ..problems.modir3d.sitk_utils import *"
   ]
  },
  {
   "cell_type": "code",
   "execution_count": 6,
   "metadata": {},
   "outputs": [
    {
     "name": "stdout",
     "output_type": "stream",
     "text": [
      "2\n",
      "/export/scratch2/data/grewal/Data/Projects_JPG_data/MO_DIR/LUMC_cervical_test_annotated/MODIR16/2.25.288064712475147460804240590614900732253.json\n",
      "['a_uterina_left' 'a_uterina_right' 'ac_left' 'ac_right' 'asbs' 'bladder'\n",
      " 'body' 'bowel' 'bowel (1) mri' 'cervix_os' 'coccygis' 'ext_urethral_os'\n",
      " 'fh_left' 'fh_right' 'gtv_res' 'hr_ctv' 'int_anal_sfinct'\n",
      " 'int_urethral_os' 'ir_ctv' 'isthmus' 'iu_canal_top' 'pibs_os' 'rectum'\n",
      " 'rotundum_left' 'rotundum_right' 's2s3' 's3s4' 'sigmoid'\n",
      " 'ureteral_os_left' 'ureteral_os_right' 'uterus-vagina' 'uterus_top']\n",
      "\n",
      "/export/scratch2/data/grewal/Data/Projects_JPG_data/MO_DIR/LUMC_cervical_test_annotated/MODIR16/2.25.89225162996425888780919817002874880455.json\n",
      "['a_uterina_left' 'a_uterina_right' 'ac_left' 'ac_right' 'asbs' 'bladder'\n",
      " 'bowel' 'cervix_os' 'coccygis' 'ext_urethral_os' 'fh_left' 'fh_right'\n",
      " 'gtv_res' 'hr_ctv' 'int_anal_sfinct' 'int_urethral_os' 'ir_ctv' 'isthmus'\n",
      " 'iu_canal_top' 'pibs_os' 'rectum' 'rotundum_left' 'rotundum_right' 's2s3'\n",
      " 's3s4' 'sigmoid' 'ureteral_os_left' 'ureteral_os_right' 'uterus_top']\n",
      "\n"
     ]
    }
   ],
   "source": [
    "root_dir = \"/export/scratch2/data/grewal/Data/Projects_JPG_data/MO_DIR/LUMC_cervical_test_annotated/MODIR16\"\n",
    "\n",
    "filepaths = glob.glob(root_dir + \"*/*.json\")\n",
    "print(len(filepaths))\n",
    "for filepath in filepaths:\n",
    "    print(filepath)\n",
    "    info = json.load(open(filepath, \"r\"))\n",
    "\n",
    "    labels = [item[\"label_name\"] for item in info[\"annotation\"]]\n",
    "    print(np.unique(labels))\n",
    "    print(\"\")"
   ]
  },
  {
   "cell_type": "code",
   "execution_count": null,
   "metadata": {},
   "outputs": [],
   "source": [
    "def visualize_label(meta_list, annotations, label_pp, view=\"transverse\"):\n",
    "\t# colors = {0: (1, 0, 0), 1: (1, 0, 1), 2: (0, 1, 0), 3: (0, 0, 1),\n",
    "\t# \t\t\t4: (1, 1, 0), 5: (0, 1, 1), 6: (1, 0, 1),\n",
    "\t# \t\t\t7: (1, 0.5, 0), 8: (0, 1, 0.5), 9: (0.5, 0, 1),\n",
    "\t# \t\t\t10: (0.5, 1, 0), 11: (0, 0.5, 1), 12: (1, 0, 0.5)}\n",
    "\tmeta_sorted = sorted(meta_list, key=lambda x: x['SliceLocation'])\n",
    "\tfor i, meta in enumerate(meta_sorted):\n",
    "\t\tdicom_path = meta['original_path']\n",
    "\t\tim = pydicom.dcmread(dicom_path)\n",
    "\t\timg = process_dicom_array(im, meta)\n",
    "\n",
    "\t\timg = np.stack((img,)*3, axis=-1)\n",
    "\t\tcombined = img.copy()\n",
    "\t\topacity = 0.8\n",
    "\t\tuid = meta['uid']\n",
    "\t\tannotation = [item for item in annotations if item[\"uid\"]==uid]\n",
    "\t\tfor idx, item in enumerate(annotation):\n",
    "\t\t\tcoords = item[\"coords\"]\n",
    "\t\t\tcoords = np.asarray(coords).squeeze()\n",
    "\t\t\trr, cc = skimage.draw.polygon(coords[:,0], coords[:,1], shape=img.shape)\n",
    "\t\t\tcombined[cc, rr] = opacity*np.array(item[\"color\"]) + (1-opacity)*combined[cc, rr]\n",
    "\t\t\n",
    "\t\tcombined = np.concatenate((combined, img), axis=1)\n",
    "\t\toutput_path = str(label_pp) + f\"/{i}.jpg\"\n",
    "\t\timsave(output_path, (combined*255).astype(np.uint8))"
   ]
  },
  {
   "cell_type": "code",
   "execution_count": null,
   "metadata": {},
   "outputs": [],
   "source": [
    "info = json.load(open(filepaths[0], \"r\"))\n",
    "fixed_meta = info[\"meta\"]\n",
    "fixed_annotations = info[\"annotation\"]\n",
    "fixed_meta = sorted(fixed_meta, key=lambda x: x[\"SliceLocation\"])\n",
    "fixed_impaths = [item[\"original_path\"] for item in fixed_meta]\n",
    "\n",
    "info = json.load(open(filepath[1], \"r\"))\n",
    "moving_meta = info[\"meta\"]\n",
    "moving_annotations = info[\"annotation\"]\n",
    "moving_meta = sorted(moving_meta, key=lambda x: x[\"SliceLocation\"])\n",
    "moving_impaths = [item[\"original_path\"] for item in moving_meta]\n",
    "\n",
    "fixed_image = read_image(fixed_impaths, output_spacing=None, crop_depth=False, rescaling=True)\n",
    "moving_image = read_image(moving_impaths, output_spacing=None, crop_depth=False, rescaling=True)\n",
    "print(f\"Original spacings: fixed image = {fixed_image.GetSpacing()}, moving image = {moving_image.GetSpacing()}\")\n",
    "print(f\"Original sizes: fixed image = {fixed_image.GetSize()}, moving image = {moving_image.GetSize()}\")"
   ]
  }
 ],
 "metadata": {
  "kernelspec": {
   "display_name": ".venv",
   "language": "python",
   "name": "python3"
  },
  "language_info": {
   "codemirror_mode": {
    "name": "ipython",
    "version": 3
   },
   "file_extension": ".py",
   "mimetype": "text/x-python",
   "name": "python",
   "nbconvert_exporter": "python",
   "pygments_lexer": "ipython3",
   "version": "3.10.8"
  },
  "orig_nbformat": 4,
  "vscode": {
   "interpreter": {
    "hash": "1ad5f0b77fd2e5ef60dfc5a5bc4a2e574c913023325b39494daf64735fa345cd"
   }
  }
 },
 "nbformat": 4,
 "nbformat_minor": 2
}
